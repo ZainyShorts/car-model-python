{
  "cells": [
    {
      "cell_type": "code",
      "execution_count": 1,
      "metadata": {
        "id": "_ik3GAGZcK_H"
      },
      "outputs": [],
      "source": [
        "import pandas as pd\n",
        "path = '/Users/macbookpro/Documents/Python/Model/Husnain/Linear Regression/pakWheels.csv'"
      ]
    },
    {
      "cell_type": "code",
      "execution_count": 2,
      "metadata": {
        "colab": {
          "base_uri": "https://localhost:8080/",
          "height": 556
        },
        "id": "6zy73Q0vdYms",
        "outputId": "c9b3bea7-4b58-41aa-8d58-85e72636eb5b"
      },
      "outputs": [
        {
          "data": {
            "text/html": [
              "<div>\n",
              "<style scoped>\n",
              "    .dataframe tbody tr th:only-of-type {\n",
              "        vertical-align: middle;\n",
              "    }\n",
              "\n",
              "    .dataframe tbody tr th {\n",
              "        vertical-align: top;\n",
              "    }\n",
              "\n",
              "    .dataframe thead th {\n",
              "        text-align: right;\n",
              "    }\n",
              "</style>\n",
              "<table border=\"1\" class=\"dataframe\">\n",
              "  <thead>\n",
              "    <tr style=\"text-align: right;\">\n",
              "      <th></th>\n",
              "      <th>Ad No</th>\n",
              "      <th>Name</th>\n",
              "      <th>Price</th>\n",
              "      <th>Model Year</th>\n",
              "      <th>Location</th>\n",
              "      <th>Mileage</th>\n",
              "      <th>Registered City</th>\n",
              "      <th>Engine Type</th>\n",
              "      <th>Engine Capacity</th>\n",
              "      <th>Transmission</th>\n",
              "      <th>Color</th>\n",
              "      <th>Assembly</th>\n",
              "      <th>Body Type</th>\n",
              "      <th>Features</th>\n",
              "      <th>Last Updated</th>\n",
              "      <th>URL</th>\n",
              "    </tr>\n",
              "  </thead>\n",
              "  <tbody>\n",
              "    <tr>\n",
              "      <th>0</th>\n",
              "      <td>4096758</td>\n",
              "      <td>Toyota Vitz F 1.0 2017</td>\n",
              "      <td>2385000</td>\n",
              "      <td>2017</td>\n",
              "      <td>G- 8, Islamabad Islamabad</td>\n",
              "      <td>9869</td>\n",
              "      <td>Un-Registered</td>\n",
              "      <td>1</td>\n",
              "      <td>1000</td>\n",
              "      <td>1</td>\n",
              "      <td>Silver</td>\n",
              "      <td>Imported</td>\n",
              "      <td>1</td>\n",
              "      <td>ABS, AM/FM Radio, Air Bags, Air Conditioning,...</td>\n",
              "      <td>11-Jul-20</td>\n",
              "      <td>https://www.pakwheels.com/used-cars/toyota-vit...</td>\n",
              "    </tr>\n",
              "    <tr>\n",
              "      <th>1</th>\n",
              "      <td>4168305</td>\n",
              "      <td>Toyota Corolla GLi Automatic 1.3 VVTi 2019</td>\n",
              "      <td>111000</td>\n",
              "      <td>2019</td>\n",
              "      <td>Peshawar KPK</td>\n",
              "      <td>11111</td>\n",
              "      <td>Islamabad</td>\n",
              "      <td>1</td>\n",
              "      <td>1300</td>\n",
              "      <td>1</td>\n",
              "      <td>White</td>\n",
              "      <td>Local</td>\n",
              "      <td>2</td>\n",
              "      <td>ABS, AM/FM Radio, Air Bags, Air Conditioning,...</td>\n",
              "      <td>12-Jul-20</td>\n",
              "      <td>https://www.pakwheels.com/used-cars/toyota-cor...</td>\n",
              "    </tr>\n",
              "    <tr>\n",
              "      <th>2</th>\n",
              "      <td>4168298</td>\n",
              "      <td>Suzuki Alto VXL 2019</td>\n",
              "      <td>1530000</td>\n",
              "      <td>2019</td>\n",
              "      <td>Akora Khattak, Nowshera KPK</td>\n",
              "      <td>17500</td>\n",
              "      <td>Un-Registered</td>\n",
              "      <td>1</td>\n",
              "      <td>660</td>\n",
              "      <td>1</td>\n",
              "      <td>White</td>\n",
              "      <td>Local</td>\n",
              "      <td>1</td>\n",
              "      <td>ABS, AM/FM Radio, Air Bags, Air Conditioning,...</td>\n",
              "      <td>12-Jul-20</td>\n",
              "      <td>https://www.pakwheels.com/used-cars/suzuki-alt...</td>\n",
              "    </tr>\n",
              "    <tr>\n",
              "      <th>3</th>\n",
              "      <td>4168307</td>\n",
              "      <td>Suzuki Alto VXR 2019</td>\n",
              "      <td>1650000</td>\n",
              "      <td>2019</td>\n",
              "      <td>Abdullahpur, Faisalabad Punjab</td>\n",
              "      <td>9600</td>\n",
              "      <td>Lahore</td>\n",
              "      <td>1</td>\n",
              "      <td>660</td>\n",
              "      <td>2</td>\n",
              "      <td>White</td>\n",
              "      <td>Local</td>\n",
              "      <td>1</td>\n",
              "      <td>AM/FM Radio, Air Bags, Air Conditioning, DVD ...</td>\n",
              "      <td>12-Jul-20</td>\n",
              "      <td>https://www.pakwheels.com/used-cars/suzuki-alt...</td>\n",
              "    </tr>\n",
              "    <tr>\n",
              "      <th>4</th>\n",
              "      <td>4168306</td>\n",
              "      <td>Toyota Corolla XLi VVTi 2010</td>\n",
              "      <td>1435000</td>\n",
              "      <td>2010</td>\n",
              "      <td>9th Avenue, Islamabad Islamabad</td>\n",
              "      <td>120000</td>\n",
              "      <td>Islamabad</td>\n",
              "      <td>1</td>\n",
              "      <td>1300</td>\n",
              "      <td>2</td>\n",
              "      <td>Black</td>\n",
              "      <td>Local</td>\n",
              "      <td>2</td>\n",
              "      <td>AM/FM Radio, Air Conditioning, CD Player, Key...</td>\n",
              "      <td>12-Jul-20</td>\n",
              "      <td>https://www.pakwheels.com/used-cars/toyota-cor...</td>\n",
              "    </tr>\n",
              "  </tbody>\n",
              "</table>\n",
              "</div>"
            ],
            "text/plain": [
              "     Ad No                                        Name    Price  Model Year  \\\n",
              "0  4096758                      Toyota Vitz F 1.0 2017  2385000        2017   \n",
              "1  4168305  Toyota Corolla GLi Automatic 1.3 VVTi 2019   111000        2019   \n",
              "2  4168298                        Suzuki Alto VXL 2019  1530000        2019   \n",
              "3  4168307                        Suzuki Alto VXR 2019  1650000        2019   \n",
              "4  4168306                Toyota Corolla XLi VVTi 2010  1435000        2010   \n",
              "\n",
              "                           Location  Mileage Registered City  Engine Type  \\\n",
              "0         G- 8, Islamabad Islamabad     9869   Un-Registered            1   \n",
              "1                      Peshawar KPK    11111       Islamabad            1   \n",
              "2       Akora Khattak, Nowshera KPK    17500   Un-Registered            1   \n",
              "3    Abdullahpur, Faisalabad Punjab     9600          Lahore            1   \n",
              "4   9th Avenue, Islamabad Islamabad   120000       Islamabad            1   \n",
              "\n",
              "   Engine Capacity  Transmission   Color  Assembly  Body Type  \\\n",
              "0             1000             1  Silver  Imported          1   \n",
              "1             1300             1   White     Local          2   \n",
              "2              660             1   White     Local          1   \n",
              "3              660             2   White     Local          1   \n",
              "4             1300             2   Black     Local          2   \n",
              "\n",
              "                                            Features Last Updated  \\\n",
              "0   ABS, AM/FM Radio, Air Bags, Air Conditioning,...    11-Jul-20   \n",
              "1   ABS, AM/FM Radio, Air Bags, Air Conditioning,...    12-Jul-20   \n",
              "2   ABS, AM/FM Radio, Air Bags, Air Conditioning,...    12-Jul-20   \n",
              "3   AM/FM Radio, Air Bags, Air Conditioning, DVD ...    12-Jul-20   \n",
              "4   AM/FM Radio, Air Conditioning, CD Player, Key...    12-Jul-20   \n",
              "\n",
              "                                                 URL  \n",
              "0  https://www.pakwheels.com/used-cars/toyota-vit...  \n",
              "1  https://www.pakwheels.com/used-cars/toyota-cor...  \n",
              "2  https://www.pakwheels.com/used-cars/suzuki-alt...  \n",
              "3  https://www.pakwheels.com/used-cars/suzuki-alt...  \n",
              "4  https://www.pakwheels.com/used-cars/toyota-cor...  "
            ]
          },
          "execution_count": 2,
          "metadata": {},
          "output_type": "execute_result"
        }
      ],
      "source": [
        "\n",
        "\n",
        "df = pd.read_csv(path)\n",
        "\n",
        "df.head()"
      ]
    },
    {
      "cell_type": "code",
      "execution_count": 3,
      "metadata": {
        "colab": {
          "base_uri": "https://localhost:8080/"
        },
        "id": "VSGtW9AZJ0NY",
        "outputId": "fa99d265-c196-4602-d406-a9104f369cd5"
      },
      "outputs": [
        {
          "data": {
            "text/plain": [
              "array([1, 2, 3, 5, 6, 4])"
            ]
          },
          "execution_count": 3,
          "metadata": {},
          "output_type": "execute_result"
        }
      ],
      "source": [
        "uniq= df['Body Type'].unique()\n",
        "uniq"
      ]
    },
    {
      "cell_type": "code",
      "execution_count": 4,
      "metadata": {
        "colab": {
          "base_uri": "https://localhost:8080/"
        },
        "id": "tr5DJ92Wss3p",
        "outputId": "494fcec4-d1d4-441c-c1de-cd93d04c0af1"
      },
      "outputs": [
        {
          "data": {
            "text/plain": [
              "array([1, 2, 3])"
            ]
          },
          "execution_count": 4,
          "metadata": {},
          "output_type": "execute_result"
        }
      ],
      "source": [
        "unq= df['Engine Type'].unique()\n",
        "unq"
      ]
    },
    {
      "cell_type": "markdown",
      "metadata": {
        "id": "yG0lOXsNjkzu"
      },
      "source": [
        "Data Cleansing"
      ]
    },
    {
      "cell_type": "code",
      "execution_count": 5,
      "metadata": {
        "id": "CUaOV5gdcwQq"
      },
      "outputs": [],
      "source": [
        "new_df= df['Name'].str.split(' ',n=1,expand=True).rename(columns={0:'company',1:'varient'})\n"
      ]
    },
    {
      "cell_type": "code",
      "execution_count": 6,
      "metadata": {
        "id": "SQuT7_jvg4_9"
      },
      "outputs": [],
      "source": [
        "df[['company','varient']] = df['Name'].str.split(' ', n=1, expand=True)\n"
      ]
    },
    {
      "cell_type": "code",
      "execution_count": 7,
      "metadata": {
        "id": "hxFlEVwLqCYe"
      },
      "outputs": [],
      "source": [
        "df[['company','varient']] = df['Name'].str.split(' ', n=1, expand=True)\n"
      ]
    },
    {
      "cell_type": "code",
      "execution_count": 8,
      "metadata": {
        "id": "2ZJs_mGQqpZo"
      },
      "outputs": [],
      "source": [
        "df[['Vaarient','model']] = df['varient'].str.rsplit(' ', n=1, expand=True)\n"
      ]
    },
    {
      "cell_type": "code",
      "execution_count": 9,
      "metadata": {
        "id": "cO-nTne3uFU8"
      },
      "outputs": [],
      "source": [
        "df.drop('model',inplace=True,axis=1)"
      ]
    },
    {
      "cell_type": "code",
      "execution_count": 10,
      "metadata": {
        "colab": {
          "base_uri": "https://localhost:8080/"
        },
        "id": "JLlu313guzIK",
        "outputId": "d45587f8-b97f-4e7d-fa7b-dd3b0cc6f7ee"
      },
      "outputs": [
        {
          "name": "stdout",
          "output_type": "stream",
          "text": [
            "Index(['Ad No', 'Name', 'Price', 'Model Year', 'Location', 'Mileage',\n",
            "       'Registered City', 'Engine Type', 'Engine Capacity', 'Transmission',\n",
            "       'Color', 'Assembly', 'Body Type', 'Features', 'Last Updated', 'URL',\n",
            "       'company', 'varient', 'Vaarient'],\n",
            "      dtype='object')\n"
          ]
        }
      ],
      "source": [
        "\n",
        "print(df.keys())"
      ]
    },
    {
      "cell_type": "code",
      "execution_count": 11,
      "metadata": {
        "colab": {
          "base_uri": "https://localhost:8080/",
          "height": 556
        },
        "id": "RCYKUjE4CgIG",
        "outputId": "08bad625-99f0-4279-c498-6f38db07b4b7"
      },
      "outputs": [
        {
          "data": {
            "text/html": [
              "<div>\n",
              "<style scoped>\n",
              "    .dataframe tbody tr th:only-of-type {\n",
              "        vertical-align: middle;\n",
              "    }\n",
              "\n",
              "    .dataframe tbody tr th {\n",
              "        vertical-align: top;\n",
              "    }\n",
              "\n",
              "    .dataframe thead th {\n",
              "        text-align: right;\n",
              "    }\n",
              "</style>\n",
              "<table border=\"1\" class=\"dataframe\">\n",
              "  <thead>\n",
              "    <tr style=\"text-align: right;\">\n",
              "      <th></th>\n",
              "      <th>Ad No</th>\n",
              "      <th>Name</th>\n",
              "      <th>Price</th>\n",
              "      <th>Model Year</th>\n",
              "      <th>Location</th>\n",
              "      <th>Mileage</th>\n",
              "      <th>Registered City</th>\n",
              "      <th>Engine Type</th>\n",
              "      <th>Engine Capacity</th>\n",
              "      <th>Transmission</th>\n",
              "      <th>Color</th>\n",
              "      <th>Assembly</th>\n",
              "      <th>Body Type</th>\n",
              "      <th>Features</th>\n",
              "      <th>Last Updated</th>\n",
              "      <th>URL</th>\n",
              "      <th>company</th>\n",
              "      <th>varient</th>\n",
              "      <th>Vaarient</th>\n",
              "    </tr>\n",
              "  </thead>\n",
              "  <tbody>\n",
              "    <tr>\n",
              "      <th>0</th>\n",
              "      <td>4096758</td>\n",
              "      <td>Toyota Vitz F 1.0 2017</td>\n",
              "      <td>2385000</td>\n",
              "      <td>2017</td>\n",
              "      <td>G- 8, Islamabad Islamabad</td>\n",
              "      <td>9869</td>\n",
              "      <td>Un-Registered</td>\n",
              "      <td>1</td>\n",
              "      <td>1000</td>\n",
              "      <td>1</td>\n",
              "      <td>Silver</td>\n",
              "      <td>Imported</td>\n",
              "      <td>1</td>\n",
              "      <td>ABS, AM/FM Radio, Air Bags, Air Conditioning,...</td>\n",
              "      <td>11-Jul-20</td>\n",
              "      <td>https://www.pakwheels.com/used-cars/toyota-vit...</td>\n",
              "      <td>Toyota</td>\n",
              "      <td>Vitz F 1.0 2017</td>\n",
              "      <td>Vitz F 1.0</td>\n",
              "    </tr>\n",
              "    <tr>\n",
              "      <th>1</th>\n",
              "      <td>4168305</td>\n",
              "      <td>Toyota Corolla GLi Automatic 1.3 VVTi 2019</td>\n",
              "      <td>111000</td>\n",
              "      <td>2019</td>\n",
              "      <td>Peshawar KPK</td>\n",
              "      <td>11111</td>\n",
              "      <td>Islamabad</td>\n",
              "      <td>1</td>\n",
              "      <td>1300</td>\n",
              "      <td>1</td>\n",
              "      <td>White</td>\n",
              "      <td>Local</td>\n",
              "      <td>2</td>\n",
              "      <td>ABS, AM/FM Radio, Air Bags, Air Conditioning,...</td>\n",
              "      <td>12-Jul-20</td>\n",
              "      <td>https://www.pakwheels.com/used-cars/toyota-cor...</td>\n",
              "      <td>Toyota</td>\n",
              "      <td>Corolla GLi Automatic 1.3 VVTi 2019</td>\n",
              "      <td>Corolla GLi Automatic 1.3 VVTi</td>\n",
              "    </tr>\n",
              "    <tr>\n",
              "      <th>2</th>\n",
              "      <td>4168298</td>\n",
              "      <td>Suzuki Alto VXL 2019</td>\n",
              "      <td>1530000</td>\n",
              "      <td>2019</td>\n",
              "      <td>Akora Khattak, Nowshera KPK</td>\n",
              "      <td>17500</td>\n",
              "      <td>Un-Registered</td>\n",
              "      <td>1</td>\n",
              "      <td>660</td>\n",
              "      <td>1</td>\n",
              "      <td>White</td>\n",
              "      <td>Local</td>\n",
              "      <td>1</td>\n",
              "      <td>ABS, AM/FM Radio, Air Bags, Air Conditioning,...</td>\n",
              "      <td>12-Jul-20</td>\n",
              "      <td>https://www.pakwheels.com/used-cars/suzuki-alt...</td>\n",
              "      <td>Suzuki</td>\n",
              "      <td>Alto VXL 2019</td>\n",
              "      <td>Alto VXL</td>\n",
              "    </tr>\n",
              "    <tr>\n",
              "      <th>3</th>\n",
              "      <td>4168307</td>\n",
              "      <td>Suzuki Alto VXR 2019</td>\n",
              "      <td>1650000</td>\n",
              "      <td>2019</td>\n",
              "      <td>Abdullahpur, Faisalabad Punjab</td>\n",
              "      <td>9600</td>\n",
              "      <td>Lahore</td>\n",
              "      <td>1</td>\n",
              "      <td>660</td>\n",
              "      <td>2</td>\n",
              "      <td>White</td>\n",
              "      <td>Local</td>\n",
              "      <td>1</td>\n",
              "      <td>AM/FM Radio, Air Bags, Air Conditioning, DVD ...</td>\n",
              "      <td>12-Jul-20</td>\n",
              "      <td>https://www.pakwheels.com/used-cars/suzuki-alt...</td>\n",
              "      <td>Suzuki</td>\n",
              "      <td>Alto VXR 2019</td>\n",
              "      <td>Alto VXR</td>\n",
              "    </tr>\n",
              "    <tr>\n",
              "      <th>4</th>\n",
              "      <td>4168306</td>\n",
              "      <td>Toyota Corolla XLi VVTi 2010</td>\n",
              "      <td>1435000</td>\n",
              "      <td>2010</td>\n",
              "      <td>9th Avenue, Islamabad Islamabad</td>\n",
              "      <td>120000</td>\n",
              "      <td>Islamabad</td>\n",
              "      <td>1</td>\n",
              "      <td>1300</td>\n",
              "      <td>2</td>\n",
              "      <td>Black</td>\n",
              "      <td>Local</td>\n",
              "      <td>2</td>\n",
              "      <td>AM/FM Radio, Air Conditioning, CD Player, Key...</td>\n",
              "      <td>12-Jul-20</td>\n",
              "      <td>https://www.pakwheels.com/used-cars/toyota-cor...</td>\n",
              "      <td>Toyota</td>\n",
              "      <td>Corolla XLi VVTi 2010</td>\n",
              "      <td>Corolla XLi VVTi</td>\n",
              "    </tr>\n",
              "  </tbody>\n",
              "</table>\n",
              "</div>"
            ],
            "text/plain": [
              "     Ad No                                        Name    Price  Model Year  \\\n",
              "0  4096758                      Toyota Vitz F 1.0 2017  2385000        2017   \n",
              "1  4168305  Toyota Corolla GLi Automatic 1.3 VVTi 2019   111000        2019   \n",
              "2  4168298                        Suzuki Alto VXL 2019  1530000        2019   \n",
              "3  4168307                        Suzuki Alto VXR 2019  1650000        2019   \n",
              "4  4168306                Toyota Corolla XLi VVTi 2010  1435000        2010   \n",
              "\n",
              "                           Location  Mileage Registered City  Engine Type  \\\n",
              "0         G- 8, Islamabad Islamabad     9869   Un-Registered            1   \n",
              "1                      Peshawar KPK    11111       Islamabad            1   \n",
              "2       Akora Khattak, Nowshera KPK    17500   Un-Registered            1   \n",
              "3    Abdullahpur, Faisalabad Punjab     9600          Lahore            1   \n",
              "4   9th Avenue, Islamabad Islamabad   120000       Islamabad            1   \n",
              "\n",
              "   Engine Capacity  Transmission   Color  Assembly  Body Type  \\\n",
              "0             1000             1  Silver  Imported          1   \n",
              "1             1300             1   White     Local          2   \n",
              "2              660             1   White     Local          1   \n",
              "3              660             2   White     Local          1   \n",
              "4             1300             2   Black     Local          2   \n",
              "\n",
              "                                            Features Last Updated  \\\n",
              "0   ABS, AM/FM Radio, Air Bags, Air Conditioning,...    11-Jul-20   \n",
              "1   ABS, AM/FM Radio, Air Bags, Air Conditioning,...    12-Jul-20   \n",
              "2   ABS, AM/FM Radio, Air Bags, Air Conditioning,...    12-Jul-20   \n",
              "3   AM/FM Radio, Air Bags, Air Conditioning, DVD ...    12-Jul-20   \n",
              "4   AM/FM Radio, Air Conditioning, CD Player, Key...    12-Jul-20   \n",
              "\n",
              "                                                 URL company  \\\n",
              "0  https://www.pakwheels.com/used-cars/toyota-vit...  Toyota   \n",
              "1  https://www.pakwheels.com/used-cars/toyota-cor...  Toyota   \n",
              "2  https://www.pakwheels.com/used-cars/suzuki-alt...  Suzuki   \n",
              "3  https://www.pakwheels.com/used-cars/suzuki-alt...  Suzuki   \n",
              "4  https://www.pakwheels.com/used-cars/toyota-cor...  Toyota   \n",
              "\n",
              "                               varient                        Vaarient  \n",
              "0                      Vitz F 1.0 2017                      Vitz F 1.0  \n",
              "1  Corolla GLi Automatic 1.3 VVTi 2019  Corolla GLi Automatic 1.3 VVTi  \n",
              "2                        Alto VXL 2019                        Alto VXL  \n",
              "3                        Alto VXR 2019                        Alto VXR  \n",
              "4                Corolla XLi VVTi 2010                Corolla XLi VVTi  "
            ]
          },
          "execution_count": 11,
          "metadata": {},
          "output_type": "execute_result"
        }
      ],
      "source": [
        "df.head()"
      ]
    },
    {
      "cell_type": "code",
      "execution_count": 12,
      "metadata": {
        "id": "-kaB8F8ifjsp"
      },
      "outputs": [],
      "source": [
        "#df.drop('URL',axis=1,inplace=True)\n",
        "#df.drop('Features',axis=1,inplace=True)\n",
        "#df.drop('Last Updated',axis=1,inplace=True)\n"
      ]
    },
    {
      "cell_type": "code",
      "execution_count": 13,
      "metadata": {
        "id": "Uu02X5Rak3jl"
      },
      "outputs": [],
      "source": [
        "\n",
        "df.drop('Color',axis=1,inplace=True)\n"
      ]
    },
    {
      "cell_type": "code",
      "execution_count": 14,
      "metadata": {
        "colab": {
          "base_uri": "https://localhost:8080/",
          "height": 170
        },
        "id": "SISqmTUqfgrK",
        "outputId": "89088ae7-631d-4b23-fd4e-cc28270b7ac7"
      },
      "outputs": [
        {
          "data": {
            "text/html": [
              "<div>\n",
              "<style scoped>\n",
              "    .dataframe tbody tr th:only-of-type {\n",
              "        vertical-align: middle;\n",
              "    }\n",
              "\n",
              "    .dataframe tbody tr th {\n",
              "        vertical-align: top;\n",
              "    }\n",
              "\n",
              "    .dataframe thead th {\n",
              "        text-align: right;\n",
              "    }\n",
              "</style>\n",
              "<table border=\"1\" class=\"dataframe\">\n",
              "  <thead>\n",
              "    <tr style=\"text-align: right;\">\n",
              "      <th></th>\n",
              "      <th>Ad No</th>\n",
              "      <th>Name</th>\n",
              "      <th>Price</th>\n",
              "      <th>Model Year</th>\n",
              "      <th>Location</th>\n",
              "      <th>Mileage</th>\n",
              "      <th>Registered City</th>\n",
              "      <th>Engine Type</th>\n",
              "      <th>Engine Capacity</th>\n",
              "      <th>Transmission</th>\n",
              "      <th>Assembly</th>\n",
              "      <th>Body Type</th>\n",
              "      <th>Features</th>\n",
              "      <th>Last Updated</th>\n",
              "      <th>URL</th>\n",
              "      <th>company</th>\n",
              "      <th>varient</th>\n",
              "      <th>Vaarient</th>\n",
              "    </tr>\n",
              "  </thead>\n",
              "  <tbody>\n",
              "    <tr>\n",
              "      <th>0</th>\n",
              "      <td>4096758</td>\n",
              "      <td>Toyota Vitz F 1.0 2017</td>\n",
              "      <td>2385000</td>\n",
              "      <td>2017</td>\n",
              "      <td>G- 8, Islamabad Islamabad</td>\n",
              "      <td>9869</td>\n",
              "      <td>Un-Registered</td>\n",
              "      <td>1</td>\n",
              "      <td>1000</td>\n",
              "      <td>1</td>\n",
              "      <td>Imported</td>\n",
              "      <td>1</td>\n",
              "      <td>ABS, AM/FM Radio, Air Bags, Air Conditioning,...</td>\n",
              "      <td>11-Jul-20</td>\n",
              "      <td>https://www.pakwheels.com/used-cars/toyota-vit...</td>\n",
              "      <td>Toyota</td>\n",
              "      <td>Vitz F 1.0 2017</td>\n",
              "      <td>Vitz F 1.0</td>\n",
              "    </tr>\n",
              "  </tbody>\n",
              "</table>\n",
              "</div>"
            ],
            "text/plain": [
              "     Ad No                    Name    Price  Model Year  \\\n",
              "0  4096758  Toyota Vitz F 1.0 2017  2385000        2017   \n",
              "\n",
              "                     Location  Mileage Registered City  Engine Type  \\\n",
              "0   G- 8, Islamabad Islamabad     9869   Un-Registered            1   \n",
              "\n",
              "   Engine Capacity  Transmission  Assembly  Body Type  \\\n",
              "0             1000             1  Imported          1   \n",
              "\n",
              "                                            Features Last Updated  \\\n",
              "0   ABS, AM/FM Radio, Air Bags, Air Conditioning,...    11-Jul-20   \n",
              "\n",
              "                                                 URL company          varient  \\\n",
              "0  https://www.pakwheels.com/used-cars/toyota-vit...  Toyota  Vitz F 1.0 2017   \n",
              "\n",
              "     Vaarient  \n",
              "0  Vitz F 1.0  "
            ]
          },
          "execution_count": 14,
          "metadata": {},
          "output_type": "execute_result"
        }
      ],
      "source": [
        "\n",
        "df.head(1)"
      ]
    },
    {
      "cell_type": "code",
      "execution_count": 15,
      "metadata": {
        "colab": {
          "base_uri": "https://localhost:8080/",
          "height": 300
        },
        "id": "CK42B95tiLdc",
        "outputId": "99f2d4cc-7eb4-4232-860c-3c323c555716"
      },
      "outputs": [
        {
          "data": {
            "text/html": [
              "<div>\n",
              "<style scoped>\n",
              "    .dataframe tbody tr th:only-of-type {\n",
              "        vertical-align: middle;\n",
              "    }\n",
              "\n",
              "    .dataframe tbody tr th {\n",
              "        vertical-align: top;\n",
              "    }\n",
              "\n",
              "    .dataframe thead th {\n",
              "        text-align: right;\n",
              "    }\n",
              "</style>\n",
              "<table border=\"1\" class=\"dataframe\">\n",
              "  <thead>\n",
              "    <tr style=\"text-align: right;\">\n",
              "      <th></th>\n",
              "      <th>Ad No</th>\n",
              "      <th>Price</th>\n",
              "      <th>Model Year</th>\n",
              "      <th>Mileage</th>\n",
              "      <th>Engine Type</th>\n",
              "      <th>Engine Capacity</th>\n",
              "      <th>Transmission</th>\n",
              "      <th>Body Type</th>\n",
              "    </tr>\n",
              "  </thead>\n",
              "  <tbody>\n",
              "    <tr>\n",
              "      <th>count</th>\n",
              "      <td>8.770000e+03</td>\n",
              "      <td>8.770000e+03</td>\n",
              "      <td>8770.000000</td>\n",
              "      <td>8770.000000</td>\n",
              "      <td>8770.000000</td>\n",
              "      <td>8770.000000</td>\n",
              "      <td>8770.000000</td>\n",
              "      <td>8770.000000</td>\n",
              "    </tr>\n",
              "    <tr>\n",
              "      <th>mean</th>\n",
              "      <td>4.127660e+06</td>\n",
              "      <td>2.441324e+06</td>\n",
              "      <td>2011.830787</td>\n",
              "      <td>86422.733067</td>\n",
              "      <td>1.112315</td>\n",
              "      <td>1380.060205</td>\n",
              "      <td>1.443216</td>\n",
              "      <td>1.820981</td>\n",
              "    </tr>\n",
              "    <tr>\n",
              "      <th>std</th>\n",
              "      <td>1.232420e+05</td>\n",
              "      <td>3.458262e+06</td>\n",
              "      <td>5.963194</td>\n",
              "      <td>66236.720482</td>\n",
              "      <td>0.440608</td>\n",
              "      <td>672.912382</td>\n",
              "      <td>0.496793</td>\n",
              "      <td>1.028333</td>\n",
              "    </tr>\n",
              "    <tr>\n",
              "      <th>min</th>\n",
              "      <td>6.660600e+05</td>\n",
              "      <td>1.110000e+05</td>\n",
              "      <td>1990.000000</td>\n",
              "      <td>1.000000</td>\n",
              "      <td>1.000000</td>\n",
              "      <td>16.000000</td>\n",
              "      <td>1.000000</td>\n",
              "      <td>1.000000</td>\n",
              "    </tr>\n",
              "    <tr>\n",
              "      <th>25%</th>\n",
              "      <td>4.154326e+06</td>\n",
              "      <td>1.006250e+06</td>\n",
              "      <td>2008.000000</td>\n",
              "      <td>44000.000000</td>\n",
              "      <td>1.000000</td>\n",
              "      <td>1000.000000</td>\n",
              "      <td>1.000000</td>\n",
              "      <td>1.000000</td>\n",
              "    </tr>\n",
              "    <tr>\n",
              "      <th>50%</th>\n",
              "      <td>4.159462e+06</td>\n",
              "      <td>1.650000e+06</td>\n",
              "      <td>2014.000000</td>\n",
              "      <td>75150.000000</td>\n",
              "      <td>1.000000</td>\n",
              "      <td>1300.000000</td>\n",
              "      <td>1.000000</td>\n",
              "      <td>2.000000</td>\n",
              "    </tr>\n",
              "    <tr>\n",
              "      <th>75%</th>\n",
              "      <td>4.164063e+06</td>\n",
              "      <td>2.580000e+06</td>\n",
              "      <td>2016.000000</td>\n",
              "      <td>111000.000000</td>\n",
              "      <td>1.000000</td>\n",
              "      <td>1600.000000</td>\n",
              "      <td>2.000000</td>\n",
              "      <td>2.000000</td>\n",
              "    </tr>\n",
              "    <tr>\n",
              "      <th>max</th>\n",
              "      <td>4.168339e+06</td>\n",
              "      <td>4.550000e+07</td>\n",
              "      <td>2019.000000</td>\n",
              "      <td>999999.000000</td>\n",
              "      <td>3.000000</td>\n",
              "      <td>6600.000000</td>\n",
              "      <td>2.000000</td>\n",
              "      <td>6.000000</td>\n",
              "    </tr>\n",
              "  </tbody>\n",
              "</table>\n",
              "</div>"
            ],
            "text/plain": [
              "              Ad No         Price   Model Year        Mileage  Engine Type  \\\n",
              "count  8.770000e+03  8.770000e+03  8770.000000    8770.000000  8770.000000   \n",
              "mean   4.127660e+06  2.441324e+06  2011.830787   86422.733067     1.112315   \n",
              "std    1.232420e+05  3.458262e+06     5.963194   66236.720482     0.440608   \n",
              "min    6.660600e+05  1.110000e+05  1990.000000       1.000000     1.000000   \n",
              "25%    4.154326e+06  1.006250e+06  2008.000000   44000.000000     1.000000   \n",
              "50%    4.159462e+06  1.650000e+06  2014.000000   75150.000000     1.000000   \n",
              "75%    4.164063e+06  2.580000e+06  2016.000000  111000.000000     1.000000   \n",
              "max    4.168339e+06  4.550000e+07  2019.000000  999999.000000     3.000000   \n",
              "\n",
              "       Engine Capacity  Transmission    Body Type  \n",
              "count      8770.000000   8770.000000  8770.000000  \n",
              "mean       1380.060205      1.443216     1.820981  \n",
              "std         672.912382      0.496793     1.028333  \n",
              "min          16.000000      1.000000     1.000000  \n",
              "25%        1000.000000      1.000000     1.000000  \n",
              "50%        1300.000000      1.000000     2.000000  \n",
              "75%        1600.000000      2.000000     2.000000  \n",
              "max        6600.000000      2.000000     6.000000  "
            ]
          },
          "execution_count": 15,
          "metadata": {},
          "output_type": "execute_result"
        }
      ],
      "source": [
        "df.describe()"
      ]
    },
    {
      "cell_type": "code",
      "execution_count": 16,
      "metadata": {},
      "outputs": [
        {
          "data": {
            "text/plain": [
              "0                           Vitz F 1.0\n",
              "1       Corolla GLi Automatic 1.3 VVTi\n",
              "2                             Alto VXL\n",
              "3                             Alto VXR\n",
              "4                     Corolla XLi VVTi\n",
              "                     ...              \n",
              "8765    Civic VTi Prosmatec 1.8 i-VTEC\n",
              "8766    Corolla GLi Automatic 1.3 VVTi\n",
              "8767       Corolla SE Saloon Automatic\n",
              "8768              Corolla 2.0D Limited\n",
              "8769                    Alto VXR (CNG)\n",
              "Name: Vaarient, Length: 8770, dtype: object"
            ]
          },
          "execution_count": 16,
          "metadata": {},
          "output_type": "execute_result"
        }
      ],
      "source": [
        "df['Vaarient']"
      ]
    },
    {
      "cell_type": "code",
      "execution_count": 17,
      "metadata": {
        "id": "KRG423Zeewk5"
      },
      "outputs": [],
      "source": [
        "from sklearn import preprocessing\n",
        "label_encoder = preprocessing.LabelEncoder()\n",
        "\n",
        "encoded_company = label_encoder.fit_transform(df.company)\n",
        "encoded_varient = label_encoder.fit_transform(df.Vaarient)"
      ]
    },
    {
      "cell_type": "code",
      "execution_count": 18,
      "metadata": {
        "id": "-ZM9xUdlmM1c"
      },
      "outputs": [],
      "source": [
        "encoded_company = pd.Series(encoded_company)\n",
        "encoded_varient = pd.Series(encoded_varient)\n",
        "# print(encoded_varient)\n",
        "df['Company'] = encoded_company\n",
        "df['Vaarient'] = encoded_varient"
      ]
    },
    {
      "cell_type": "code",
      "execution_count": 19,
      "metadata": {
        "id": "d6tt_y4SoX8c"
      },
      "outputs": [],
      "source": [
        "x = df[['Engine Capacity', 'Model Year', 'Mileage','Company','Vaarient', 'Engine Type', 'Transmission', 'Body Type']]\n",
        "y = df['Price']"
      ]
    },
    {
      "cell_type": "code",
      "execution_count": 20,
      "metadata": {
        "id": "pL6QEtv6oq7x"
      },
      "outputs": [],
      "source": [
        "\n",
        "from sklearn.model_selection import train_test_split\n",
        "from sklearn.metrics import r2_score, mean_squared_error\n",
        "\n",
        "from sklearn.linear_model import LinearRegression\n",
        "from sklearn.metrics import mean_squared_error, r2_score\n",
        "x_train, x_test, y_train, y_test = train_test_split(x, y, test_size = 0.30, random_state = 46)\n",
        "regr = LinearRegression()\n",
        "model = regr.fit(x_train, y_train)"
      ]
    },
    {
      "cell_type": "code",
      "execution_count": 21,
      "metadata": {
        "colab": {
          "base_uri": "https://localhost:8080/",
          "height": 89
        },
        "id": "wCp13F3SiEvI",
        "outputId": "438643f7-aac1-4f44-b68c-8ff33ef474ea"
      },
      "outputs": [
        {
          "data": {
            "text/html": [
              "<div>\n",
              "<style scoped>\n",
              "    .dataframe tbody tr th:only-of-type {\n",
              "        vertical-align: middle;\n",
              "    }\n",
              "\n",
              "    .dataframe tbody tr th {\n",
              "        vertical-align: top;\n",
              "    }\n",
              "\n",
              "    .dataframe thead th {\n",
              "        text-align: right;\n",
              "    }\n",
              "</style>\n",
              "<table border=\"1\" class=\"dataframe\">\n",
              "  <thead>\n",
              "    <tr style=\"text-align: right;\">\n",
              "      <th></th>\n",
              "      <th>Engine Capacity</th>\n",
              "      <th>Model Year</th>\n",
              "      <th>Mileage</th>\n",
              "      <th>Company</th>\n",
              "      <th>Vaarient</th>\n",
              "      <th>Engine Type</th>\n",
              "      <th>Transmission</th>\n",
              "      <th>Body Type</th>\n",
              "    </tr>\n",
              "  </thead>\n",
              "  <tbody>\n",
              "    <tr>\n",
              "      <th>0</th>\n",
              "      <td>660</td>\n",
              "      <td>2020</td>\n",
              "      <td>10000</td>\n",
              "      <td>suzuki</td>\n",
              "      <td>alto</td>\n",
              "      <td>1</td>\n",
              "      <td>1</td>\n",
              "      <td>1</td>\n",
              "    </tr>\n",
              "  </tbody>\n",
              "</table>\n",
              "</div>"
            ],
            "text/plain": [
              "   Engine Capacity  Model Year  Mileage Company Vaarient  Engine Type  \\\n",
              "0              660        2020    10000  suzuki     alto            1   \n",
              "\n",
              "   Transmission  Body Type  \n",
              "0             1          1  "
            ]
          },
          "execution_count": 21,
          "metadata": {},
          "output_type": "execute_result"
        }
      ],
      "source": [
        "new_cin = pd.DataFrame({'Engine Capacity':660 ,'Model Year':2020 ,'Mileage':10000,'Company': \"suzuki\" ,'Vaarient':\"alto\",'Engine Type':1 ,'Transmission':1,'Body Type':1},index=[0])\n",
        "new_cin = new_cin[['Engine Capacity', 'Model Year', 'Mileage','Company','Vaarient', 'Engine Type', 'Transmission', 'Body Type']]\n",
        "new_cin"
      ]
    },
    {
      "cell_type": "code",
      "execution_count": 22,
      "metadata": {
        "colab": {
          "base_uri": "https://localhost:8080/"
        },
        "id": "WtpHqCitmPgj",
        "outputId": "9bb76e60-5f11-4ec0-9fe7-8995368d5be3"
      },
      "outputs": [
        {
          "data": {
            "text/plain": [
              "array([1084678.68047327])"
            ]
          },
          "execution_count": 22,
          "metadata": {},
          "output_type": "execute_result"
        }
      ],
      "source": [
        "encoded_company = label_encoder.fit_transform(new_cin.Company)\n",
        "encoded_varient = label_encoder.fit_transform(new_cin.Vaarient)\n",
        "encoded_company = pd.Series(encoded_company)\n",
        "encoded_varient = pd.Series(encoded_varient)\n",
        "new_cin['Company'] = encoded_company\n",
        "new_cin['Vaarient'] = encoded_varient\n",
        "prediction= model.predict(new_cin)\n",
        "prediction"
      ]
    },
    {
      "cell_type": "code",
      "execution_count": 23,
      "metadata": {
        "id": "cAbrVrmZjt2y"
      },
      "outputs": [],
      "source": [
        "\n",
        "def price_predict(ec,myear,mile,company,varient,etype,trans,btype):\n",
        "  cin=pd.DataFrame({'Engine Capacity':[ec],\n",
        "                   'Model Year':[myear],\n",
        "                   'Mileage':[mile],\n",
        "                   'Company':[company],\n",
        "                    'Vaarient':[varient],\n",
        "                   'Engine Type':[etype],\n",
        "                   'Transmission':[trans],\n",
        "                   'Body Type':[btype]})\n",
        "  label_encoder = preprocessing.LabelEncoder()\n",
        "  encoded_company = label_encoder.fit_transform(cin.Company)\n",
        "  encoded_varient = label_encoder.fit_transform(cin.Vaarient)\n",
        "  encoded_company = pd.Series(encoded_company)\n",
        "  encoded_varient = pd.Series(encoded_varient)\n",
        "  cin['Company'] = encoded_company\n",
        "  cin['Vaarient'] = encoded_varient\n",
        "  cout=model.predict(cin)\n",
        "  return cout\n"
      ]
    },
    {
      "cell_type": "code",
      "execution_count": 24,
      "metadata": {
        "colab": {
          "base_uri": "https://localhost:8080/"
        },
        "id": "BZ4lga7R76zm",
        "outputId": "60fda106-738a-49a0-ff24-4ae1028f7d9b"
      },
      "outputs": [
        {
          "data": {
            "text/plain": [
              "array([-5554469.01301086])"
            ]
          },
          "execution_count": 24,
          "metadata": {},
          "output_type": "execute_result"
        }
      ],
      "source": [
        "price_predict(1000,2005,1536643,'Suzuki','Cultus',1,1,2)"
      ]
    },
    {
      "cell_type": "code",
      "execution_count": 25,
      "metadata": {
        "id": "5nt9n568_JJf"
      },
      "outputs": [],
      "source": [
        "import pickle\n",
        "\n",
        "pickle.dump(df,open('df_car.pkl','wb'))\n",
        "pickle.dump(model,open('model_car.pkl','wb'))"
      ]
    },
    {
      "cell_type": "markdown",
      "metadata": {
        "id": "GlJ81Mb6IIpf"
      },
      "source": [
        "Prediction  acuracy"
      ]
    },
    {
      "cell_type": "code",
      "execution_count": 26,
      "metadata": {
        "colab": {
          "base_uri": "https://localhost:8080/"
        },
        "id": "7B3NyVYPmqMP",
        "outputId": "c049bd48-70f9-490b-e578-3899c9ab6965"
      },
      "outputs": [
        {
          "name": "stdout",
          "output_type": "stream",
          "text": [
            "[2508027.71674538   60832.62742198 5114693.1114291  ... 6663341.56825835\n",
            " 5030199.39227724 3529263.70976263]\n",
            "R-squared: 0.5904653329660441\n",
            "Mean Squared Error: 4389611648721.4795\n"
          ]
        }
      ],
      "source": [
        "y_pred = model.predict(x_test)\n",
        "print(y_pred)\n",
        "r2 = r2_score(y_test, y_pred)\n",
        "mse = mean_squared_error(y_test, y_pred)\n",
        "\n",
        "print(\"R-squared:\", r2)\n",
        "print(\"Mean Squared Error:\", mse)\n",
        "\n"
      ]
    },
    {
      "cell_type": "code",
      "execution_count": 27,
      "metadata": {
        "id": "thnjMNKZAuzB"
      },
      "outputs": [],
      "source": [
        "#from sklearn import neighbors\n",
        "#model_knn = neighbors.KNeighborsRegressor(n_neighbors = 3)\n",
        "#model_knn.fit(x_train, y_train)"
      ]
    },
    {
      "cell_type": "code",
      "execution_count": 28,
      "metadata": {
        "id": "Mt0rPZ0rBAzG"
      },
      "outputs": [],
      "source": [
        "#predicted_value = model_knn.predict(x_test)\n",
        "#knn_score = r2_score(y_test, predicted_value)\n",
        "#knn_score"
      ]
    }
  ],
  "metadata": {
    "colab": {
      "provenance": []
    },
    "kernelspec": {
      "display_name": "Python 3 (ipykernel)",
      "language": "python",
      "name": "python3"
    },
    "language_info": {
      "codemirror_mode": {
        "name": "ipython",
        "version": 3
      },
      "file_extension": ".py",
      "mimetype": "text/x-python",
      "name": "python",
      "nbconvert_exporter": "python",
      "pygments_lexer": "ipython3",
      "version": "3.12.2"
    }
  },
  "nbformat": 4,
  "nbformat_minor": 0
}
